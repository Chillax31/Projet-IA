{
 "cells": [
  {
   "cell_type": "markdown",
   "id": "45878d89",
   "metadata": {},
   "source": [
    " Présenté par :\n",
    "\n",
    " 1- LOUNGOUBIYENDOLO Quentin Evrard\n",
    "\n",
    " 2- Ndiaya GUEYE\n",
    " \n",
    " Master 1 Virtualisation Computing et Cloud"
   ]
  },
  {
   "cell_type": "markdown",
   "id": "e9bd588e",
   "metadata": {},
   "source": [
    "####  Partie 1– Préparation des données"
   ]
  },
  {
   "cell_type": "markdown",
   "id": "8c5f24e4",
   "metadata": {},
   "source": [
    "##### Importation de la bibliothèque pandas"
   ]
  },
  {
   "cell_type": "code",
   "execution_count": 24,
   "id": "48af799c",
   "metadata": {},
   "outputs": [],
   "source": [
    "import pandas as pd"
   ]
  },
  {
   "cell_type": "code",
   "execution_count": null,
   "id": "d3588de9",
   "metadata": {},
   "outputs": [],
   "source": []
  },
  {
   "cell_type": "markdown",
   "id": "5fdc4e52",
   "metadata": {},
   "source": [
    "\n",
    "##### Lire seulement les 2 000 000 premières lignes (ou un autre nombre raisonnable)"
   ]
  },
  {
   "cell_type": "code",
   "execution_count": 25,
   "id": "78e708ff",
   "metadata": {},
   "outputs": [],
   "source": [
    "df = pd.read_csv(\"data.csv\", nrows=2_000_000)"
   ]
  },
  {
   "cell_type": "markdown",
   "id": "1d7100cb",
   "metadata": {},
   "source": [
    "##### Affichage des premières lignes"
   ]
  },
  {
   "cell_type": "code",
   "execution_count": 4,
   "id": "f1e58964",
   "metadata": {},
   "outputs": [
    {
     "data": {
      "text/html": [
       "<div>\n",
       "<style scoped>\n",
       "    .dataframe tbody tr th:only-of-type {\n",
       "        vertical-align: middle;\n",
       "    }\n",
       "\n",
       "    .dataframe tbody tr th {\n",
       "        vertical-align: top;\n",
       "    }\n",
       "\n",
       "    .dataframe thead th {\n",
       "        text-align: right;\n",
       "    }\n",
       "</style>\n",
       "<table border=\"1\" class=\"dataframe\">\n",
       "  <thead>\n",
       "    <tr style=\"text-align: right;\">\n",
       "      <th></th>\n",
       "      <th>Flow ID</th>\n",
       "      <th>Src IP</th>\n",
       "      <th>Src Port</th>\n",
       "      <th>Dst IP</th>\n",
       "      <th>Dst Port</th>\n",
       "      <th>Protocol</th>\n",
       "      <th>Timestamp</th>\n",
       "      <th>Flow Duration</th>\n",
       "      <th>Total Fwd Packet</th>\n",
       "      <th>Total Bwd packets</th>\n",
       "      <th>...</th>\n",
       "      <th>Active Std</th>\n",
       "      <th>Active Max</th>\n",
       "      <th>Active Min</th>\n",
       "      <th>Idle Mean</th>\n",
       "      <th>Idle Std</th>\n",
       "      <th>Idle Max</th>\n",
       "      <th>Idle Min</th>\n",
       "      <th>Label</th>\n",
       "      <th>Traffic Type</th>\n",
       "      <th>Traffic Subtype</th>\n",
       "    </tr>\n",
       "  </thead>\n",
       "  <tbody>\n",
       "    <tr>\n",
       "      <th>0</th>\n",
       "      <td>192.168.1.90-192.168.1.3-53930-64738-6</td>\n",
       "      <td>192.168.1.90</td>\n",
       "      <td>53930.0</td>\n",
       "      <td>192.168.1.3</td>\n",
       "      <td>64738</td>\n",
       "      <td>6.0</td>\n",
       "      <td>01/01/1970 07:41:46 AM</td>\n",
       "      <td>52601173.0</td>\n",
       "      <td>1701.0</td>\n",
       "      <td>1793.0</td>\n",
       "      <td>...</td>\n",
       "      <td>0.000000e+00</td>\n",
       "      <td>0.0</td>\n",
       "      <td>0.0</td>\n",
       "      <td>0.0</td>\n",
       "      <td>0.000000</td>\n",
       "      <td>0.0</td>\n",
       "      <td>0.0</td>\n",
       "      <td>Benign</td>\n",
       "      <td>Audio</td>\n",
       "      <td>Audio</td>\n",
       "    </tr>\n",
       "    <tr>\n",
       "      <th>1</th>\n",
       "      <td>192.168.1.3-192.168.1.90-64738-37700-6</td>\n",
       "      <td>192.168.1.3</td>\n",
       "      <td>64738.0</td>\n",
       "      <td>192.168.1.90</td>\n",
       "      <td>37700</td>\n",
       "      <td>6.0</td>\n",
       "      <td>01/01/1970 07:41:46 AM</td>\n",
       "      <td>119106942.0</td>\n",
       "      <td>36.0</td>\n",
       "      <td>57.0</td>\n",
       "      <td>...</td>\n",
       "      <td>3.416174e+06</td>\n",
       "      <td>19996926.0</td>\n",
       "      <td>14078617.0</td>\n",
       "      <td>5001511.0</td>\n",
       "      <td>1737.400069</td>\n",
       "      <td>5003516.0</td>\n",
       "      <td>5000449.0</td>\n",
       "      <td>Benign</td>\n",
       "      <td>Audio</td>\n",
       "      <td>Audio</td>\n",
       "    </tr>\n",
       "    <tr>\n",
       "      <th>2</th>\n",
       "      <td>192.168.1.3-192.168.1.90-22-40854-6</td>\n",
       "      <td>192.168.1.3</td>\n",
       "      <td>22.0</td>\n",
       "      <td>192.168.1.90</td>\n",
       "      <td>40854</td>\n",
       "      <td>6.0</td>\n",
       "      <td>01/01/1970 07:41:46 AM</td>\n",
       "      <td>5589.0</td>\n",
       "      <td>1.0</td>\n",
       "      <td>1.0</td>\n",
       "      <td>...</td>\n",
       "      <td>0.000000e+00</td>\n",
       "      <td>0.0</td>\n",
       "      <td>0.0</td>\n",
       "      <td>0.0</td>\n",
       "      <td>0.000000</td>\n",
       "      <td>0.0</td>\n",
       "      <td>0.0</td>\n",
       "      <td>Benign</td>\n",
       "      <td>Audio</td>\n",
       "      <td>Audio</td>\n",
       "    </tr>\n",
       "    <tr>\n",
       "      <th>3</th>\n",
       "      <td>192.168.1.70-192.168.1.3-55422-64738-6</td>\n",
       "      <td>192.168.1.70</td>\n",
       "      <td>55422.0</td>\n",
       "      <td>192.168.1.3</td>\n",
       "      <td>64738</td>\n",
       "      <td>6.0</td>\n",
       "      <td>01/01/1970 07:41:47 AM</td>\n",
       "      <td>118166562.0</td>\n",
       "      <td>3932.0</td>\n",
       "      <td>4196.0</td>\n",
       "      <td>...</td>\n",
       "      <td>0.000000e+00</td>\n",
       "      <td>0.0</td>\n",
       "      <td>0.0</td>\n",
       "      <td>0.0</td>\n",
       "      <td>0.000000</td>\n",
       "      <td>0.0</td>\n",
       "      <td>0.0</td>\n",
       "      <td>Benign</td>\n",
       "      <td>Audio</td>\n",
       "      <td>Audio</td>\n",
       "    </tr>\n",
       "    <tr>\n",
       "      <th>4</th>\n",
       "      <td>192.168.1.90-192.168.1.3-59658-64738-17</td>\n",
       "      <td>192.168.1.90</td>\n",
       "      <td>59658.0</td>\n",
       "      <td>192.168.1.3</td>\n",
       "      <td>64738</td>\n",
       "      <td>17.0</td>\n",
       "      <td>01/01/1970 07:41:50 AM</td>\n",
       "      <td>119988385.0</td>\n",
       "      <td>25.0</td>\n",
       "      <td>6795.0</td>\n",
       "      <td>...</td>\n",
       "      <td>0.000000e+00</td>\n",
       "      <td>0.0</td>\n",
       "      <td>0.0</td>\n",
       "      <td>0.0</td>\n",
       "      <td>0.000000</td>\n",
       "      <td>0.0</td>\n",
       "      <td>0.0</td>\n",
       "      <td>Benign</td>\n",
       "      <td>Audio</td>\n",
       "      <td>Audio</td>\n",
       "    </tr>\n",
       "  </tbody>\n",
       "</table>\n",
       "<p>5 rows × 86 columns</p>\n",
       "</div>"
      ],
      "text/plain": [
       "                                   Flow ID        Src IP  Src Port  \\\n",
       "0   192.168.1.90-192.168.1.3-53930-64738-6  192.168.1.90   53930.0   \n",
       "1   192.168.1.3-192.168.1.90-64738-37700-6   192.168.1.3   64738.0   \n",
       "2      192.168.1.3-192.168.1.90-22-40854-6   192.168.1.3      22.0   \n",
       "3   192.168.1.70-192.168.1.3-55422-64738-6  192.168.1.70   55422.0   \n",
       "4  192.168.1.90-192.168.1.3-59658-64738-17  192.168.1.90   59658.0   \n",
       "\n",
       "         Dst IP  Dst Port  Protocol               Timestamp  Flow Duration  \\\n",
       "0   192.168.1.3     64738       6.0  01/01/1970 07:41:46 AM     52601173.0   \n",
       "1  192.168.1.90     37700       6.0  01/01/1970 07:41:46 AM    119106942.0   \n",
       "2  192.168.1.90     40854       6.0  01/01/1970 07:41:46 AM         5589.0   \n",
       "3   192.168.1.3     64738       6.0  01/01/1970 07:41:47 AM    118166562.0   \n",
       "4   192.168.1.3     64738      17.0  01/01/1970 07:41:50 AM    119988385.0   \n",
       "\n",
       "   Total Fwd Packet  Total Bwd packets  ...    Active Std  Active Max  \\\n",
       "0            1701.0             1793.0  ...  0.000000e+00         0.0   \n",
       "1              36.0               57.0  ...  3.416174e+06  19996926.0   \n",
       "2               1.0                1.0  ...  0.000000e+00         0.0   \n",
       "3            3932.0             4196.0  ...  0.000000e+00         0.0   \n",
       "4              25.0             6795.0  ...  0.000000e+00         0.0   \n",
       "\n",
       "   Active Min  Idle Mean     Idle Std   Idle Max   Idle Min   Label  \\\n",
       "0         0.0        0.0     0.000000        0.0        0.0  Benign   \n",
       "1  14078617.0  5001511.0  1737.400069  5003516.0  5000449.0  Benign   \n",
       "2         0.0        0.0     0.000000        0.0        0.0  Benign   \n",
       "3         0.0        0.0     0.000000        0.0        0.0  Benign   \n",
       "4         0.0        0.0     0.000000        0.0        0.0  Benign   \n",
       "\n",
       "   Traffic Type  Traffic Subtype  \n",
       "0         Audio            Audio  \n",
       "1         Audio            Audio  \n",
       "2         Audio            Audio  \n",
       "3         Audio            Audio  \n",
       "4         Audio            Audio  \n",
       "\n",
       "[5 rows x 86 columns]"
      ]
     },
     "execution_count": 4,
     "metadata": {},
     "output_type": "execute_result"
    }
   ],
   "source": [
    "df.head()"
   ]
  },
  {
   "cell_type": "markdown",
   "id": "b04731e5",
   "metadata": {},
   "source": []
  },
  {
   "cell_type": "markdown",
   "id": "accebcdd",
   "metadata": {},
   "source": [
    "##### Exploration, nettoyage et préparation du jeu de données"
   ]
  },
  {
   "cell_type": "markdown",
   "id": "47fb279f",
   "metadata": {},
   "source": [
    "##### 1- Types de données"
   ]
  },
  {
   "cell_type": "code",
   "execution_count": 5,
   "id": "c76ab3d0",
   "metadata": {},
   "outputs": [
    {
     "data": {
      "text/plain": [
       "Flow ID             object\n",
       "Src IP              object\n",
       "Src Port           float64\n",
       "Dst IP              object\n",
       "Dst Port             int64\n",
       "                    ...   \n",
       "Idle Max           float64\n",
       "Idle Min           float64\n",
       "Label               object\n",
       "Traffic Type        object\n",
       "Traffic Subtype     object\n",
       "Length: 86, dtype: object"
      ]
     },
     "execution_count": 5,
     "metadata": {},
     "output_type": "execute_result"
    }
   ],
   "source": [
    "df.dtypes"
   ]
  },
  {
   "cell_type": "markdown",
   "id": "595c4013",
   "metadata": {},
   "source": [
    "##### 2- Informations globales (colonnes, types, valeurs manquantes)"
   ]
  },
  {
   "cell_type": "code",
   "execution_count": 11,
   "id": "ff8d7417",
   "metadata": {},
   "outputs": [
    {
     "name": "stdout",
     "output_type": "stream",
     "text": [
      "<class 'pandas.core.frame.DataFrame'>\n",
      "RangeIndex: 2000000 entries, 0 to 1999999\n",
      "Data columns (total 86 columns):\n",
      " #   Column                      Dtype  \n",
      "---  ------                      -----  \n",
      " 0   Flow ID                     object \n",
      " 1   Src IP                      object \n",
      " 2   Src Port                    float64\n",
      " 3   Dst IP                      object \n",
      " 4   Dst Port                    int64  \n",
      " 5   Protocol                    float64\n",
      " 6   Timestamp                   object \n",
      " 7   Flow Duration               float64\n",
      " 8   Total Fwd Packet            float64\n",
      " 9   Total Bwd packets           float64\n",
      " 10  Total Length of Fwd Packet  float64\n",
      " 11  Total Length of Bwd Packet  float64\n",
      " 12  Fwd Packet Length Max       float64\n",
      " 13  Fwd Packet Length Min       float64\n",
      " 14  Fwd Packet Length Mean      float64\n",
      " 15  Fwd Packet Length Std       float64\n",
      " 16  Bwd Packet Length Max       float64\n",
      " 17  Bwd Packet Length Min       float64\n",
      " 18  Bwd Packet Length Mean      float64\n",
      " 19  Bwd Packet Length Std       float64\n",
      " 20  Flow Bytes/s                float64\n",
      " 21  Flow Packets/s              float64\n",
      " 22  Flow IAT Mean               float64\n",
      " 23  Flow IAT Std                float64\n",
      " 24  Flow IAT Max                float64\n",
      " 25  Flow IAT Min                float64\n",
      " 26  Fwd IAT Total               float64\n",
      " 27  Fwd IAT Mean                float64\n",
      " 28  Fwd IAT Std                 float64\n",
      " 29  Fwd IAT Max                 float64\n",
      " 30  Fwd IAT Min                 float64\n",
      " 31  Bwd IAT Total               float64\n",
      " 32  Bwd IAT Mean                float64\n",
      " 33  Bwd IAT Std                 float64\n",
      " 34  Bwd IAT Max                 float64\n",
      " 35  Bwd IAT Min                 float64\n",
      " 36  Fwd PSH Flags               float64\n",
      " 37  Bwd PSH Flags               float64\n",
      " 38  Fwd URG Flags               float64\n",
      " 39  Bwd URG Flags               float64\n",
      " 40  Fwd Header Length           float64\n",
      " 41  Bwd Header Length           float64\n",
      " 42  Fwd Packets/s               float64\n",
      " 43  Bwd Packets/s               float64\n",
      " 44  Packet Length Min           float64\n",
      " 45  Packet Length Max           float64\n",
      " 46  Packet Length Mean          float64\n",
      " 47  Packet Length Std           float64\n",
      " 48  Packet Length Variance      float64\n",
      " 49  FIN Flag Count              float64\n",
      " 50  SYN Flag Count              float64\n",
      " 51  RST Flag Count              float64\n",
      " 52  PSH Flag Count              float64\n",
      " 53  ACK Flag Count              float64\n",
      " 54  URG Flag Count              float64\n",
      " 55  CWR Flag Count              float64\n",
      " 56  ECE Flag Count              float64\n",
      " 57  Down/Up Ratio               float64\n",
      " 58  Average Packet Size         float64\n",
      " 59  Fwd Segment Size Avg        float64\n",
      " 60  Bwd Segment Size Avg        float64\n",
      " 61  Fwd Bytes/Bulk Avg          float64\n",
      " 62  Fwd Packet/Bulk Avg         float64\n",
      " 63  Fwd Bulk Rate Avg           float64\n",
      " 64  Bwd Bytes/Bulk Avg          float64\n",
      " 65  Bwd Packet/Bulk Avg         float64\n",
      " 66  Bwd Bulk Rate Avg           float64\n",
      " 67  Subflow Fwd Packets         float64\n",
      " 68  Subflow Fwd Bytes           float64\n",
      " 69  Subflow Bwd Packets         float64\n",
      " 70  Subflow Bwd Bytes           float64\n",
      " 71  FWD Init Win Bytes          float64\n",
      " 72  Bwd Init Win Bytes          float64\n",
      " 73  Fwd Act Data Pkts           float64\n",
      " 74  Fwd Seg Size Min            float64\n",
      " 75  Active Mean                 float64\n",
      " 76  Active Std                  float64\n",
      " 77  Active Max                  float64\n",
      " 78  Active Min                  float64\n",
      " 79  Idle Mean                   float64\n",
      " 80  Idle Std                    float64\n",
      " 81  Idle Max                    float64\n",
      " 82  Idle Min                    float64\n",
      " 83  Label                       object \n",
      " 84  Traffic Type                object \n",
      " 85  Traffic Subtype             object \n",
      "dtypes: float64(78), int64(1), object(7)\n",
      "memory usage: 1.3+ GB\n"
     ]
    }
   ],
   "source": [
    "df.info()"
   ]
  },
  {
   "cell_type": "markdown",
   "id": "eb77277d",
   "metadata": {},
   "source": [
    "##### Vérification du nombre de valeurs manquantes par colonne"
   ]
  },
  {
   "cell_type": "code",
   "execution_count": 7,
   "id": "c2b0880a",
   "metadata": {},
   "outputs": [
    {
     "data": {
      "text/plain": [
       "Flow ID            0\n",
       "Src IP             0\n",
       "Src Port           0\n",
       "Dst IP             0\n",
       "Dst Port           0\n",
       "                  ..\n",
       "Idle Max           0\n",
       "Idle Min           0\n",
       "Label              0\n",
       "Traffic Type       0\n",
       "Traffic Subtype    0\n",
       "Length: 86, dtype: int64"
      ]
     },
     "execution_count": 7,
     "metadata": {},
     "output_type": "execute_result"
    }
   ],
   "source": [
    "df.isnull().sum()"
   ]
  },
  {
   "cell_type": "markdown",
   "id": "65f091a9",
   "metadata": {},
   "source": [
    "##### Suppression des lignes contenant des valeurs manquantes"
   ]
  },
  {
   "cell_type": "code",
   "execution_count": 8,
   "id": "55a846e7",
   "metadata": {},
   "outputs": [],
   "source": [
    "df = df.dropna()"
   ]
  },
  {
   "cell_type": "markdown",
   "id": "7122f1fa",
   "metadata": {},
   "source": [
    "##### Identification de la variable cible"
   ]
  },
  {
   "cell_type": "code",
   "execution_count": 9,
   "id": "2d338e40",
   "metadata": {},
   "outputs": [
    {
     "data": {
      "text/plain": [
       "array(['Audio', 'Background', 'Bruteforce', 'DoS'], dtype=object)"
      ]
     },
     "execution_count": 9,
     "metadata": {},
     "output_type": "execute_result"
    }
   ],
   "source": [
    "df[\"Traffic Type\"].unique()"
   ]
  },
  {
   "cell_type": "code",
   "execution_count": 10,
   "id": "a9492313",
   "metadata": {},
   "outputs": [
    {
     "data": {
      "text/plain": [
       "Traffic Type\n",
       "DoS           1964606\n",
       "Bruteforce      35172\n",
       "Audio             190\n",
       "Background         32\n",
       "Name: count, dtype: int64"
      ]
     },
     "execution_count": 10,
     "metadata": {},
     "output_type": "execute_result"
    }
   ],
   "source": [
    "df[\"Traffic Type\"].value_counts()"
   ]
  },
  {
   "cell_type": "markdown",
   "id": "151f9f58",
   "metadata": {},
   "source": [
    "##### Encodage de la variable cible"
   ]
  },
  {
   "cell_type": "code",
   "execution_count": 13,
   "id": "8071f3fe",
   "metadata": {},
   "outputs": [],
   "source": [
    "from sklearn.preprocessing import LabelEncoder\n",
    "\n",
    "label_encoder = LabelEncoder()\n",
    "df[\"traffic_type_encoded\"] = label_encoder.fit_transform(df[\"Traffic Type\"])"
   ]
  },
  {
   "cell_type": "markdown",
   "id": "1dd81387",
   "metadata": {},
   "source": [
    "##### Normalisation des variables numériques"
   ]
  },
  {
   "cell_type": "code",
   "execution_count": 14,
   "id": "a156f959",
   "metadata": {},
   "outputs": [],
   "source": [
    "from sklearn.preprocessing import StandardScaler\n",
    "\n",
    "# Sélection des colonnes numériques\n",
    "colonnes_numeriques = df.select_dtypes(include=[\"float64\", \"int64\"]).columns.drop(\"traffic_type_encoded\")\n",
    "\n",
    "# Application du scaler\n",
    "scaler = StandardScaler()\n",
    "df[colonnes_numeriques] = scaler.fit_transform(df[colonnes_numeriques])\n"
   ]
  },
  {
   "cell_type": "markdown",
   "id": "5ab0eca7",
   "metadata": {},
   "source": [
    "##### Séparation des variables explicatives et de la cible"
   ]
  },
  {
   "cell_type": "code",
   "execution_count": 15,
   "id": "f213ff9f",
   "metadata": {},
   "outputs": [],
   "source": [
    "# X = toutes les colonnes sauf la cible encodée\n",
    "X = df[colonnes_numeriques]\n",
    "\n",
    "# y = colonne encodée (label)\n",
    "y = df[\"traffic_type_encoded\"]\n"
   ]
  },
  {
   "cell_type": "markdown",
   "id": "83757a04",
   "metadata": {},
   "source": [
    "#### Partie 2– Séparation des données"
   ]
  },
  {
   "cell_type": "markdown",
   "id": "24162e8e",
   "metadata": {},
   "source": [
    "##### Séparation du jeu d'entraînement et de test\n"
   ]
  },
  {
   "cell_type": "code",
   "execution_count": 16,
   "id": "e9d32cae",
   "metadata": {},
   "outputs": [],
   "source": [
    "from sklearn.model_selection import train_test_split\n",
    "\n",
    "# Séparation en X (features) et y (label encodé)\n",
    "X_train, X_test, y_train, y_test = train_test_split(\n",
    "    X, y, test_size=0.2, random_state=42, stratify=y\n",
    ")\n",
    "\n"
   ]
  },
  {
   "cell_type": "markdown",
   "id": "da38355c",
   "metadata": {},
   "source": [
    "##### a- Modèle 1 – K-Nearest Neighbors (KNN)\n"
   ]
  },
  {
   "cell_type": "code",
   "execution_count": 17,
   "id": "67a6104e",
   "metadata": {},
   "outputs": [
    {
     "name": "stdout",
     "output_type": "stream",
     "text": [
      "KNN - Accuracy : 0.999985\n",
      "              precision    recall  f1-score   support\n",
      "\n",
      "           0       0.97      0.95      0.96        38\n",
      "           1       1.00      0.86      0.92         7\n",
      "           2       1.00      1.00      1.00      7034\n",
      "           3       1.00      1.00      1.00    392921\n",
      "\n",
      "    accuracy                           1.00    400000\n",
      "   macro avg       0.99      0.95      0.97    400000\n",
      "weighted avg       1.00      1.00      1.00    400000\n",
      "\n"
     ]
    }
   ],
   "source": [
    "from sklearn.neighbors import KNeighborsClassifier\n",
    "from sklearn.metrics import classification_report, confusion_matrix, accuracy_score\n",
    "\n",
    "# Initialisation avec k=5\n",
    "knn_model = KNeighborsClassifier(n_neighbors=5)\n",
    "\n",
    "# Entraînement\n",
    "knn_model.fit(X_train, y_train)\n",
    "\n",
    "# Prédictions\n",
    "y_pred_knn = knn_model.predict(X_test)\n",
    "\n",
    "# Évaluation\n",
    "print(\"KNN - Accuracy :\", accuracy_score(y_test, y_pred_knn))\n",
    "print(classification_report(y_test, y_pred_knn))\n"
   ]
  },
  {
   "cell_type": "markdown",
   "id": "b9365442",
   "metadata": {},
   "source": [
    "##### b- Modèle 2 – Arbre de décision"
   ]
  },
  {
   "cell_type": "code",
   "execution_count": 18,
   "id": "a38909a5",
   "metadata": {},
   "outputs": [
    {
     "name": "stdout",
     "output_type": "stream",
     "text": [
      "Arbre de Décision - Rapport de classification\n",
      "              precision    recall  f1-score   support\n",
      "\n",
      "           0       1.00      0.97      0.99        38\n",
      "           1       1.00      1.00      1.00         7\n",
      "           2       1.00      1.00      1.00      7034\n",
      "           3       1.00      1.00      1.00    392921\n",
      "\n",
      "    accuracy                           1.00    400000\n",
      "   macro avg       1.00      0.99      1.00    400000\n",
      "weighted avg       1.00      1.00      1.00    400000\n",
      "\n"
     ]
    }
   ],
   "source": [
    "from sklearn.tree import DecisionTreeClassifier\n",
    "\n",
    "# Entraînement d’un arbre de décision\n",
    "tree = DecisionTreeClassifier(random_state=42, max_depth=10)\n",
    "tree.fit(X_train, y_train)\n",
    "\n",
    "# Prédiction et évaluation\n",
    "y_pred_tree = tree.predict(X_test)\n",
    "\n",
    "print(\"Arbre de Décision - Rapport de classification\")\n",
    "print(classification_report(y_test, y_pred_tree))\n"
   ]
  },
  {
   "cell_type": "markdown",
   "id": "57294353",
   "metadata": {},
   "source": [
    "##### Modèle 3 – Forêt aléatoire (Random Forest)"
   ]
  },
  {
   "cell_type": "code",
   "execution_count": 19,
   "id": "335fc7c1",
   "metadata": {},
   "outputs": [
    {
     "name": "stdout",
     "output_type": "stream",
     "text": [
      "Random Forest - Rapport de classification\n",
      "              precision    recall  f1-score   support\n",
      "\n",
      "           0       1.00      0.95      0.97        38\n",
      "           1       1.00      1.00      1.00         7\n",
      "           2       1.00      1.00      1.00      7034\n",
      "           3       1.00      1.00      1.00    392921\n",
      "\n",
      "    accuracy                           1.00    400000\n",
      "   macro avg       1.00      0.99      0.99    400000\n",
      "weighted avg       1.00      1.00      1.00    400000\n",
      "\n"
     ]
    }
   ],
   "source": [
    "from sklearn.ensemble import RandomForestClassifier\n",
    "\n",
    "# Entraînement d’un modèle Random Forest\n",
    "forest = RandomForestClassifier(n_estimators=100, random_state=42)\n",
    "forest.fit(X_train, y_train)\n",
    "\n",
    "# Prédiction et évaluation\n",
    "y_pred_forest = forest.predict(X_test)\n",
    "\n",
    "print(\"Random Forest - Rapport de classification\")\n",
    "print(classification_report(y_test, y_pred_forest))\n"
   ]
  },
  {
   "cell_type": "markdown",
   "id": "e426fdca",
   "metadata": {},
   "source": [
    "##### Partie 4– Comparaison des modèles"
   ]
  },
  {
   "cell_type": "markdown",
   "id": "672809e4",
   "metadata": {},
   "source": [
    " Les trois modèles affichent une précision globale (accuracy) excellente, proche ou égale à 1.00. Toutefois,nous devons nuancer cette mesure avec d’autres indicateurs :\n",
    "\n",
    "-  L’arbre de décision est le plus simple, rapide et performant dans ce contexte\n",
    "-  La Random Forest apporte une meilleure robustesse et gère mieux les classes rares\n",
    "-  Le KNN est efficace, mais son rappel plus faible sur certaines classes et son coût en mémoire en font un moins bon choix en production.\n",
    " \n",
    " Le modèle RandomForest apparaît comme le plus robuste et équilibré, malgré un temps d’entraînement légèrementplusélevé."
   ]
  },
  {
   "cell_type": "markdown",
   "id": "0fb75963",
   "metadata": {},
   "source": [
    "##### Visualisation des résultats"
   ]
  },
  {
   "cell_type": "markdown",
   "id": "c09e3b47",
   "metadata": {},
   "source": [
    "##### b- Graphique comparatif des F1-scores"
   ]
  },
  {
   "cell_type": "code",
   "execution_count": 21,
   "id": "bbb9ae2b",
   "metadata": {},
   "outputs": [
    {
     "data": {
      "image/png": "[encoded data removed]",
      "text/plain": [
       "<Figure size 700x400 with 1 Axes>"
      ]
     },
     "metadata": {},
     "output_type": "display_data"
    }
   ],
   "source": [
    "import matplotlib.pyplot as plt\n",
    "\n",
    "# Résumé des F1-scores macro\n",
    "models = [\"KNN\", \"Arbre\", \"Random Forest\"]\n",
    "f1_scores = [0.97, 1.00, 0.99]\n",
    "\n",
    "plt.figure(figsize=(7, 4))\n",
    "plt.bar(models, f1_scores, color=[\"orange\", \"green\", \"blue\"])\n",
    "plt.ylim(0.95, 1.01)\n",
    "plt.title(\"Comparaison des F1-score (macro)\")\n",
    "plt.ylabel(\"F1-score\")\n",
    "plt.grid(axis=\"y\", linestyle=\"--\", alpha=0.6)\n",
    "plt.show()\n"
   ]
  },
  {
   "cell_type": "markdown",
   "id": "bdac603e",
   "metadata": {},
   "source": [
    "##### Matrices de confusion – Trois modèles côte à côte"
   ]
  },
  {
   "cell_type": "code",
   "execution_count": 22,
   "id": "f9ebdabb",
   "metadata": {},
   "outputs": [
    {
     "data": {
      "image/png": "[encoded data removed]",
      "text/plain": [
       "<Figure size 600x400 with 2 Axes>"
      ]
     },
     "metadata": {},
     "output_type": "display_data"
    },
    {
     "data": {
      "image/png": "[encoded data removed]",
      "text/plain": [
       "<Figure size 600x400 with 2 Axes>"
      ]
     },
     "metadata": {},
     "output_type": "display_data"
    },
    {
     "data": {
      "image/png": "[encoded data removed]",
      "text/plain": [
       "<Figure size 600x400 with 2 Axes>"
      ]
     },
     "metadata": {},
     "output_type": "display_data"
    }
   ],
   "source": [
    "import matplotlib.pyplot as plt\n",
    "import seaborn as sns\n",
    "from sklearn.metrics import confusion_matrix\n",
    "\n",
    "def plot_confusion(title, y_true, y_pred):\n",
    "    cm = confusion_matrix(y_true, y_pred)\n",
    "    plt.figure(figsize=(6, 4))\n",
    "    sns.heatmap(cm, annot=True, fmt=\"d\", cmap=\"Blues\")\n",
    "    plt.title(title)\n",
    "    plt.xlabel(\"Prédictions\")\n",
    "    plt.ylabel(\"Vraies classes\")\n",
    "    plt.tight_layout()\n",
    "    plt.show()\n",
    "\n",
    "# Matrice de confusion KNN\n",
    "plot_confusion(\"Matrice de confusion – KNN\", y_test, y_pred_knn)\n",
    "\n",
    "# Matrice de confusion Arbre de Décision\n",
    "plot_confusion(\"Matrice de confusion – Arbre de Décision\", y_test, y_pred_tree)\n",
    "\n",
    "# Matrice de confusion Random Forest\n",
    "plot_confusion(\"Matrice de confusion – Random Forest\", y_test, y_pred_forest)\n"
   ]
  },
  {
   "cell_type": "markdown",
   "id": "3a2c7233",
   "metadata": {},
   "source": [
    "##### Graphique en courbe – Comparaison Accuracy & F1-score\n"
   ]
  },
  {
   "cell_type": "code",
   "execution_count": 23,
   "id": "4c809152",
   "metadata": {},
   "outputs": [
    {
     "data": {
      "image/png": "[encoded data removed]",
      "text/plain": [
       "<Figure size 800x500 with 1 Axes>"
      ]
     },
     "metadata": {},
     "output_type": "display_data"
    }
   ],
   "source": [
    "# Valeurs de performance\n",
    "models = [\"KNN\", \"Arbre\", \"Random Forest\"]\n",
    "accuracy_scores = [0.999985, 1.0, 1.0]\n",
    "f1_macro_scores = [0.97, 1.0, 0.99]\n",
    "\n",
    "# Visualisation\n",
    "plt.figure(figsize=(8, 5))\n",
    "plt.plot(models, accuracy_scores, marker='o', label=\"Accuracy\", color='darkorange')\n",
    "plt.plot(models, f1_macro_scores, marker='s', label=\"F1-score (macro)\", color='royalblue')\n",
    "plt.title(\"Comparaison des performances – Accuracy & F1-score\")\n",
    "plt.ylabel(\"Score\")\n",
    "plt.ylim(0.95, 1.01)\n",
    "plt.grid(True, linestyle=\"--\", alpha=0.5)\n",
    "plt.legend()\n",
    "plt.tight_layout()\n",
    "plt.show()\n"
   ]
  },
  {
   "cell_type": "markdown",
   "id": "1792f894",
   "metadata": {},
   "source": [
    "#####  Partie 5– Analyse critique\n"
   ]
  },
  {
   "cell_type": "markdown",
   "id": "cecbd83e",
   "metadata": {},
   "source": [
    "#####  1. Quelles classes sont bien reconnues ? Celles qui posent problème ?\n"
   ]
  },
  {
   "cell_type": "markdown",
   "id": "158335ef",
   "metadata": {},
   "source": [
    "##### L’analyse détaillée des performances classe par classe, à travers les rapports de classification et les matrices de confusion obtenus pour chacun des trois modèles testés (KNN, Arbre de Décision, Random Forest), nous permet de distinguer clairement les classes bien reconnues de celles qui présentent des difficultés de prédiction."
   ]
  },
  {
   "cell_type": "markdown",
   "id": "3012470d",
   "metadata": {},
   "source": [
    "a- Nous observons que les classes 2 et 3 sont systématiquement bien reconnues par l’ensemble des modèles, indépendamment de leur complexité :\n",
    "\n",
    "- La classe 3, largement majoritaire dans notre jeu de données (près de 393 000 exemples), est quasiment parfaitement prédite par tous les modèles. Cela s’explique par le fait qu’un nombre élevé d’exemples permet aux algorithmes d’apprentissage supervisé de repérer facilement des schémas répétitifs et de généraliser efficacement.\n",
    "\n",
    "- La classe 2 (environ 7000 exemples) est également très bien détectée, avec des précision, rappel et F1-score égaux à 1.00 dans la majorité des cas. Elle présente donc des caractéristiques suffisamment distinctes pour être reconnue sans ambiguïté par les modèles.\n",
    "\n",
    "Ces deux classes bénéficient d’un volume d’apprentissage suffisant, ce qui réduit le risque de confusion avec d’autres classes et renforce la robustesse de la prédiction."
   ]
  },
  {
   "cell_type": "markdown",
   "id": "d3e882c7",
   "metadata": {},
   "source": [
    "b- En revanche, les classes 0 et 1 posent davantage de difficultés, en particulier avec le modèle KNN."
   ]
  },
  {
   "cell_type": "markdown",
   "id": "91a163a0",
   "metadata": {},
   "source": [
    "- La classe 0 (environ 38 exemples dans le jeu de test) affiche un rappel inférieur à 1.00 dans les trois modèles testés. Cela signifie que certains exemples de cette classe sont mal classés, souvent confondus avec la classe 3. Cette confusion est logique, dans la mesure où la classe 3 domine le jeu de données, et où KNN, par exemple, peut être influencé par ses voisins les plus nombreux, menant à un biais vers la classe majoritaire.\n",
    "\n",
    "- La classe 1 est encore plus problématique. Elle contient seulement 7 exemples dans le jeu de test. Même si l’Arbre de Décision et la Random Forest la reconnaissent bien, le modèle KNN commet des erreurs sur cette classe, ce qui confirme la vulnérabilité des méthodes à base de voisinage en contexte de classes rares."
   ]
  },
  {
   "cell_type": "markdown",
   "id": "974869a5",
   "metadata": {},
   "source": [
    "#####  2. Quelles limitations les modèles présentent-ils (coût, surapprentissage...) ?"
   ]
  },
  {
   "cell_type": "markdown",
   "id": "cf4d7d2e",
   "metadata": {},
   "source": [
    "Bien que les modèles de classification que nous avons mis en œuvre (KNN, Arbre de Décision, Random Forest) aient montré des performances globalement excellentes, ils ne sont pas exempts de limitations, qu’il est essentiel de prendre en compte avant toute tentative de déploiement en environnement réel.\n",
    "\n",
    "Nous abordons ici les principales contraintes observées en termes de coût de calcul, de risque de surapprentissage, de scalabilité, et d’interprétabilité."
   ]
  },
  {
   "cell_type": "markdown",
   "id": "769f7568",
   "metadata": {},
   "source": [
    "a-  Coût computationnel"
   ]
  },
  {
   "cell_type": "markdown",
   "id": "fe935e83",
   "metadata": {},
   "source": [
    "L’un des premiers facteurs limitants concerne le coût en ressources des modèles, notamment pour des jeux de données volumineux comme celui utilisé dans notre projet.\n",
    "\n",
    "- Le modèle KNN présente un coût élevé à la prédiction. Contrairement à d’autres modèles qui apprennent une structure fixe lors de l’entraînement, KNN stocke l’ensemble des données et calcule les distances à chaque nouvelle prédiction. Ce mécanisme est lourd et peu adapté au temps réel, surtout avec un nombre d’exemples dépassant plusieurs centaines de milliers.\n",
    "\n",
    "- L’Arbre de Décision, en revanche, est très rapide en prédiction, mais peut avoir un coût élevé en mémoire si la profondeur de l’arbre devient trop importante. Heureusement, scikit-learn gère efficacement la construction de ces arbres avec des heuristiques de coupure.\n",
    "\n",
    "- Le Random Forest, composé de plusieurs arbres (souvent des dizaines ou centaines), demande plus de temps pour l’entraînement que l’arbre simple, mais reste relativement rapide à l’inférence grâce au traitement parallèle. Il constitue un bon compromis entre performance et efficacité."
   ]
  },
  {
   "cell_type": "markdown",
   "id": "56c04c6c",
   "metadata": {},
   "source": [
    "b- Surapprentissage (overfitting)"
   ]
  },
  {
   "cell_type": "markdown",
   "id": "bbf5635c",
   "metadata": {},
   "source": [
    "Le surapprentissage constitue une autre limite majeure, en particulier pour les modèles qui s’adaptent trop fidèlement aux données d’apprentissage, au détriment de leur capacité à généraliser à de nouvelles données.\n",
    "\n",
    "- L’Arbre de Décision est le plus exposé à ce risque. Lorsqu’aucune profondeur maximale n’est définie, l’arbre peut continuer à se ramifier jusqu’à mémoriser quasiment chaque exemple du dataset. Cela conduit à un apprentissage trop spécifique, qui échoue dès que des cas légèrement différents sont présentés.\n",
    "\n",
    "- Le KNN, bien qu’il ne “sur-apprend” pas au sens classique, peut être très sensible au bruit ou aux outliers, surtout avec un petit k. Cela peut se traduire par des décisions locales incohérentes.\n",
    "\n",
    "- Le Random Forest, quant à lui, limite fortement le surapprentissage, grâce à sa stratégie d’agrégation aléatoire (bagging). Chaque arbre apprend sur une portion différente des données, ce qui rend l’ensemble plus robuste. Toutefois, si le nombre d’arbres est trop petit, ou si les arbres ne sont pas suffisamment profonds, le modèle peut au contraire sous-apprendre."
   ]
  },
  {
   "cell_type": "markdown",
   "id": "fef15355",
   "metadata": {},
   "source": [
    "c- Scalabilité"
   ]
  },
  {
   "cell_type": "markdown",
   "id": "3b70c20f",
   "metadata": {},
   "source": [
    "En termes de scalabilité, c’est-à-dire la capacité à s’adapter à un volume croissant de données ou de caractéristiques, les modèles présentent également des différences notables :\n",
    "\n",
    "- KNN ne scale pas bien : plus le dataset est grand, plus le temps de prédiction augmente, car il faut comparer chaque point test à tous les points d’entraînement.\n",
    "\n",
    "- Arbre de Décision et Random Forest sont plus adaptés aux jeux de données de taille moyenne à grande, et peuvent même être parallélisés facilement.\n",
    "\n",
    "- Aucun des modèles implémentés ici n’est vraiment adapté aux flux de données temps réel ou à des mises à jour dynamiques sans réentraînement complet."
   ]
  },
  {
   "cell_type": "markdown",
   "id": "12343fce",
   "metadata": {},
   "source": [
    "d- Interprétabilité"
   ]
  },
  {
   "cell_type": "markdown",
   "id": "e4b4acd6",
   "metadata": {},
   "source": [
    "L’interprétabilité est un critère important, notamment dans des contextes sensibles (cybersécurité, médical, finance...).\n",
    "\n",
    "- Le modèle Arbre de Décision est facilement interprétable : chaque prédiction peut être expliquée par une série de règles logiques simples.\n",
    "\n",
    "- En revanche, la Random Forest, bien qu’issue d’arbres, devient difficile à interpréter à cause de la multitude d’arbres et de règles impliquées. C’est un modèle boîte noire partielle.\n",
    "\n",
    "- Le KNN, lui, est très peu explicable : il ne donne pas de règles mais se contente de “copier” les classes de ses voisins les plus proches."
   ]
  },
  {
   "cell_type": "markdown",
   "id": "b21873e8",
   "metadata": {},
   "source": [
    "e- Sensibilité au déséquilibre des classes"
   ]
  },
  {
   "cell_type": "markdown",
   "id": "e83c3153",
   "metadata": {},
   "source": [
    "Enfin, tous les modèles sont, à des degrés divers, sensibles aux déséquilibres dans les données.\n",
    "\n",
    "- KNN et Arbre ont montré des faiblesses sur les classes rares, en particulier les classes 0 et 1, mal représentées dans notre dataset.\n",
    "\n",
    "- La Random Forest a mieux résisté à ce biais, mais présente une légère baisse de F1-score macro, confirmant qu’un rééquilibrage explicite (par pondération ou suréchantillonnage) serait bénéfique.\n",
    "\n"
   ]
  },
  {
   "cell_type": "markdown",
   "id": "cdfc5c71",
   "metadata": {},
   "source": [
    "#####  3. Proposez des améliorations :"
   ]
  },
  {
   "cell_type": "markdown",
   "id": "76e59e69",
   "metadata": {},
   "source": [
    " Plusieurs pistes concrètes pourraient être explorées pour améliorer significativement la robustesse, la précision, et l’adaptabilité du modèle dans des contextes plus exigeants.\n",
    "\n",
    " a- Validation croisée\n",
    "\n",
    "  Mettre en place une validation croisée (k-fold) permettrait d’évaluer la stabilité des performances des modèles sur plusieurs partitions différentes du dataset. Cela éviterait de fonder toute l’évaluation sur un seul découpage aléatoire (train/test split), et donnerait une image plus fidèle de la capacité de généralisation des modèles.\n",
    "\n",
    " b- Optimisation des hyperparamètres\n",
    "\n",
    "  Nouspourrions intégrer une étape d’optimisation automatique des hyperparamètres via GridSearchCV ou RandomizedSearchCV, notamment pour ajuster k dans le KNN, la profondeur maximale (max_depth) dans les arbres, ou le nombre d’arbres (n_estimators) dans la forêt aléatoire. Une telle démarche permettrait d’obtenir un modèle plus finement adapté aux spécificités des données.\n",
    "\n",
    " c- Réduction de dimensionnalité\n",
    "\n",
    "  L'application de méthodes de réduction de dimensionnalité telles que l'ACP (PCA) pourrait permettre de conserver les variables les plus pertinentes, tout en simplifiant l'espace de représentation pour les modèles. Cela améliorerait potentiellement la vitesse d'exécution et réduirait le bruit.\n",
    "\n",
    " d- Utilisation de modèles avancés\n",
    "\n",
    "  Nous pourrions envisager l’utilisation de modèles plus sophistiqués, comme les réseaux de neurones multi-couches (MLP) ou les modèles de boosting tels que XGBoost et LightGBM, qui sont souvent très performants sur des données structurées. Ces approches pourraient aussi mieux capter des interactions complexes entre les variables.\n",
    "\n",
    " e- Mise en production / POC\n",
    " \n",
    "  Enfin, une extension naturelle serait de construire un prototype fonctionnel (Proof of Concept), intégrant le modèle dans une API REST ou une interface graphique permettant :\n",
    " - La prédiction en temps réel sur de nouveaux flux\n",
    " - La visualisation dynamique des prédictions et performances\n",
    " - La journalisation des prédictions pour rétroanalyse"
   ]
  },
  {
   "cell_type": "markdown",
   "id": "aee5f9f1",
   "metadata": {},
   "source": [
    "##### 5.3 – Dans quels cas d’usage concret ce système pourrait-il être déployé ? (FAI, entreprise, cybersécurité…)\n",
    "\n",
    "Les modèles développés dans ce projet — bien qu’issus d’un cadre académique — présentent un **potentiel réel d’application dans plusieurs domaines professionnels**. Leur capacité à **classifier automatiquement le trafic réseau**, en identifiant le type d’usage associé à chaque flux (streaming, VoIP, attaque, etc.), peut constituer un **outil stratégique dans de nombreux environnements connectés**.\n",
    "\n",
    "\n",
    "1- Entreprises (grandes ou PME)\n",
    "\n",
    "Dans le contexte d’une entreprise, ce système pourrait être intégré à une **infrastructure de surveillance réseau interne**. Son rôle serait de :\n",
    "\n",
    "* **Surveiller en temps réel l’utilisation du réseau**, pour comprendre quels services ou applications sont les plus utilisés (YouTube, navigation web, VoIP, etc.)\n",
    "* **Identifier des comportements anormaux** ou des usages non autorisés\n",
    "* **Optimiser la bande passante**, en différenciant les flux critiques des flux non prioritaires\n",
    "\n",
    "Ce type de solution aiderait les administrateurs réseau à prendre des décisions éclairées sur les politiques de pare-feu, de qualité de service (QoS), ou de sécurité.\n",
    "\n",
    "2- Fournisseurs d’Accès à Internet (FAI)\n",
    "\n",
    "Les fournisseurs d’accès à Internet, qu’ils soient nationaux ou régionaux, peuvent également bénéficier de ce type de solution pour :\n",
    "\n",
    "* **Analyser anonymement les tendances de consommation** de leurs utilisateurs (type de trafic, pics de charge, etc.)\n",
    "* **Optimiser la répartition de ressources et l’acheminement du trafic**, en fonction des usages les plus fréquents (vidéo, jeux, télétravail…)\n",
    "* **Mettre en place des politiques de gestion de trafic équitables**, sans interdire de service, mais en favorisant une fluidité maximale\n",
    "\n",
    "Bien entendu, cela doit se faire dans le respect strict de la **réglementation sur la vie privée** (RGPD), avec des solutions de classification opérant sur des données anonymisées.\n",
    "\n",
    "3- Cybersécurité (SOC, pare-feu, SIEM)\n",
    "\n",
    "Le domaine le plus critique où notre système peut être utile est celui de la **cybersécurité**. Intégré à un **centre de supervision de la sécurité (SOC)** ou à un **système de détection/prévention d’intrusion (IDS/IPS)**, il permettrait :\n",
    "\n",
    "* De **détecter automatiquement les flux malveillants**, en classifiant certains types de trafic comme suspects (e.g. scans, DDoS, connexions non standards)\n",
    "* D’**alerter en temps réel** en cas de changement soudain de comportement réseau (trafic sortant massif, nouvelle classe détectée, etc.)\n",
    "* D’**améliorer les capacités de corrélation** dans les solutions SIEM (Security Information and Event Management), en enrichissant les logs avec un tag de “type de trafic”\n",
    "\n",
    "Dans ce cadre, le modèle pourrait fonctionner **en tandem avec des outils comme Suricata, Zeek ou Wireshark**, et offrir une classification automatique des flux capturés.\n",
    "\n",
    "\n",
    "4- Réseaux domestiques intelligents\n",
    "\n",
    "Enfin, une version simplifiée de ce système pourrait être embarquée dans **un routeur domestique intelligent** ou dans une **solution de contrôle parental avancé** :\n",
    "\n",
    "* Pour **catégoriser automatiquement les usages réseau** (jeux, streaming, navigation)\n",
    "* Pour **mettre en pause certains flux** à certaines heures (ex. bloquer le streaming pendant les devoirs)\n",
    "* Pour **protéger le domicile contre des connexions inhabituelles**\n",
    "\n",
    "\n",
    "\n",
    "En somme, les cas d’usage de notre système de classification réseau sont nombreux et variés. Ils vont **du diagnostic réseau à l’optimisation, en passant par la détection de menaces**. Grâce à sa structure modulaire, ce système pourrait être adapté à différents **niveaux d’exigence (temps réel, embarqué, cloud)**, et constitue un **excellent point de départ pour un projet de cybersécurité ou d’observabilité réseau**.\n",
    "\n"
   ]
  },
  {
   "cell_type": "markdown",
   "id": "1dbebb5a",
   "metadata": {},
   "source": []
  }
 ],
 "metadata": {
  "kernelspec": {
   "display_name": ".venv (3.13.5)",
   "language": "python",
   "name": "python3"
  },
  "language_info": {
   "codemirror_mode": {
    "name": "ipython",
    "version": 3
   },
   "file_extension": ".py",
   "mimetype": "text/x-python",
   "name": "python",
   "nbconvert_exporter": "python",
   "pygments_lexer": "ipython3",
   "version": "3.13.5"
  }
 },
 "nbformat": 4,
 "nbformat_minor": 5
}
